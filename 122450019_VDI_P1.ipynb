{
  "nbformat": 4,
  "nbformat_minor": 0,
  "metadata": {
    "colab": {
      "provenance": []
    },
    "kernelspec": {
      "name": "python3",
      "display_name": "Python 3"
    },
    "language_info": {
      "name": "python"
    }
  },
  "cells": [
    {
      "cell_type": "markdown",
      "source": [
        "### Nama : Anisa Fitriyani\n",
        "### NIM : 122450019\n",
        "### Mata Kuliah : Visualisasi Data & Informasi"
      ],
      "metadata": {
        "id": "dYzev844Lrxq"
      }
    },
    {
      "cell_type": "markdown",
      "source": [
        "Tugas : Membuat resume dari artikel \"making data visualization more efficient and effective: a survey\""
      ],
      "metadata": {
        "id": "xHodG58vL5fD"
      }
    },
    {
      "cell_type": "markdown",
      "source": [
        "Jurnal tersebut membahas tentang perkembangan terkini dalam visualisasi data dari perspektif manajemen data. Penelitian ini menyoroti berbagai isu terkait spesifikasi visualisasi, efisiensi, dan rekomendasi visualisasi.\n",
        "Teknik dan Sistem yang digunakan yaitu :  \n",
        "\n",
        "1. Spesifikasi Visualisasi\n",
        "*   Menekankan pentingnya pengguna dalam mendefinisikan kebutuhan visualisasi mereka dengan jelas.\n",
        "*   Penggunaan bahasa yang memudahkan penyampaian spesifikasi visualisasi, termasuk kelengkapan spesifikasi untuk hasil yang sesuai.\n",
        "\n",
        "2. Pendekatan Efisien untuk Visualisasi Data\n",
        "*   Fokus pada cara memproses data dan spesifikasi visualisasi secara efisien, terutama dalam manipulasi data dan pemetaan untuk memastikan responsivitas waktu.\n",
        "*   Membagi bahasa visualisasi menjadi bahasa tingkat rendah dan tinggi, serta alat berbasis GUI yang memungkinkan spesifikasi visual yang lebih ramah pengguna.\n",
        "\n",
        "3. Teknik Sampling untuk Visualisasi\n",
        "*   Uniform Sampling : Untuk kueri COUNT.\n",
        "*   Measure-Biased Sampling : Untuk kueri SUM, memilih baris berdasarkan nilai.\n",
        "*   Incremental Sampling : Memungkinkan perbaikan visualisasi secara bertahap\n",
        "\n",
        "4. Rekomendasi Visualisasi Data\n",
        "*   Sistem yang membantu pengguna dalam menentukan visualisasi dengan memberikan saran atau melengkapi spesifikasi yang tidak lengkap.\n",
        "*   Pendekatan berbasis aturan dan pembelajaran mesin digunakan untuk meningkatkan rekomendasi visualisasi.\n",
        "\n",
        "5. Sistem Visualisasi Interaktif\n",
        "*   Alat seperti Tableau dan Polaris yang memungkinkan pengguna untuk memperbaiki visualisasi melalui interaksi iteratif.\n",
        "\n",
        "6. Teknik Visualisasi Progresif:\n",
        "*  Menggunakan agregasi hierarkis untuk memungkinkan pengguna menjelajahi data pada berbagai resolusi.\n",
        "\n",
        "7. Sistem Rekomendasi Visualisasi\n",
        "* Pendekatan berbasis aturan dan pembelajaran mesin untuk merekomendasikan visualisasi berdasarkan spesifikasi pengguna.\n",
        "\n",
        "8. Rekomendasi Berdasarkan Perilaku Pengguna\n",
        "* Sistem seperti HARVEST yang menangkap tindakan pengguna untuk merekomendasikan visualisasi yang relevan.\n",
        "\n",
        "9. Persiapan Data untuk Visualisasi\n",
        "* Menangani isu data yang tidak bersih dan bias dalam visualisasi.\n",
        "\n",
        "10. Teknik Prediksi dan Prefetching\n",
        "* Mengantisipasi kebutuhan pengguna berdasarkan visualisasi yang sedang dieksplorasi atau data historis untuk mempercepat eksplorasi data.\n",
        "\n",
        "11. Sistem Rekomendasi Berdasarkan Jarak\n",
        "* Sistem seperti Zenvisage yang merekomendasikan visualisasi berdasarkan tren atau pola yang ditentukan pengguna dengan menghitung kesamaan atau perbedaan antara visualisasi.\n",
        "\n",
        "12. Rekomendasi Personalisasi\n",
        "* Sistem seperti VizDeck dan VizRec yang memanfaatkan perilaku historis pengguna untuk memberikan rekomendasi visualisasi yang disesuaikan.\n",
        "\n",
        "### Kesimpulan\n",
        "\n",
        "Jurnal ini memberikan wawasan mendalam tentang metode untuk meningkatkan efektivitas dan efisiensi visualisasi data. Penelitian ini memungkinkan inovasi lebih lanjut dalam praktik visualisasi data, yang sangat penting dalam era informasi saat ini, dengan mengidentifikasi potensi perbaikan dan masalah yang ada. Jurnal ini juga menggarisbawahi betapa pentingnya keseimbangan kecepatan, akurasi, dan persepsi pengguna dalam visualisasi data, terutama ketika berurusan dengan dataset yang besar. Selain itu, jurnal ini menggarisbawahi betapa pentingnya kolaborasi antara praktik visualisasi dan penelitian basis data untuk meningkatkan pengalaman pengguna saat mengeksplorasi data.\n",
        "\n",
        "\n",
        "\n",
        "\n",
        "\n",
        "\n",
        "\n",
        "\n",
        "\n",
        "\n"
      ],
      "metadata": {
        "id": "EvhOM7w6L_Qn"
      }
    },
    {
      "cell_type": "code",
      "execution_count": null,
      "metadata": {
        "id": "CnKGTDvILICU"
      },
      "outputs": [],
      "source": []
    }
  ]
}